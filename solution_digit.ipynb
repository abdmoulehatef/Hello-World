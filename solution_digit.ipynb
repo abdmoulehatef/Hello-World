{
 "cells": [
  {
   "cell_type": "code",
   "execution_count": 1,
   "metadata": {
    "pycharm": {
     "name": "#%%\n"
    }
   },
   "outputs": [],
   "source": [
    "import numpy as np\n",
    "import matplotlib.pyplot as plt"
   ]
  },
  {
   "cell_type": "markdown",
   "metadata": {},
   "source": [
    "### Exercise 1 Data Acquisition\n",
    "* Load the training data for the digits `['four', 'five', 'six', 'seven']`."
   ]
  },
  {
   "cell_type": "code",
   "execution_count": 2,
   "metadata": {
    "pycharm": {
     "name": "#%%\n"
    }
   },
   "outputs": [
    {
     "data": {
      "application/vnd.jupyter.widget-view+json": {
       "model_id": "c469e7cbfce3439ab8c51439db3c69c0",
       "version_major": 2,
       "version_minor": 0
      },
      "text/plain": [
       "four:   0%|                                        | 0/2372 [00:00<?, ?files/s]"
      ]
     },
     "metadata": {},
     "output_type": "display_data"
    },
    {
     "data": {
      "application/vnd.jupyter.widget-view+json": {
       "model_id": "1a820570e9714f40bac7e8b2727a5352",
       "version_major": 2,
       "version_minor": 0
      },
      "text/plain": [
       "five:   0%|                                        | 0/2357 [00:00<?, ?files/s]"
      ]
     },
     "metadata": {},
     "output_type": "display_data"
    },
    {
     "data": {
      "application/vnd.jupyter.widget-view+json": {
       "model_id": "406107e7ed0c4ab6a28cb8937019a1eb",
       "version_major": 2,
       "version_minor": 0
      },
      "text/plain": [
       "six:   0%|                                         | 0/2369 [00:00<?, ?files/s]"
      ]
     },
     "metadata": {},
     "output_type": "display_data"
    },
    {
     "data": {
      "application/vnd.jupyter.widget-view+json": {
       "model_id": "68e71f1724dc475aaafa6ab5689bb925",
       "version_major": 2,
       "version_minor": 0
      },
      "text/plain": [
       "seven:   0%|                                       | 0/2377 [00:00<?, ?files/s]"
      ]
     },
     "metadata": {},
     "output_type": "display_data"
    }
   ],
   "source": [
    "import lib_digit as lib\n",
    "\n",
    "lib.rel_thresh = 0.5\n",
    "lib.min_length = 0.25 # 250ms\n",
    "lib.frames_select = 6\n",
    "\n",
    "PATH = './Digits Lab Course 5'\n",
    "x_train, t_train, x_test, t_test, val_split = lib.load_dataset(PATH, digits=['four', 'five', 'six', 'seven'])"
   ]
  },
  {
   "cell_type": "markdown",
   "metadata": {},
   "source": [
    "* Select one instance (dictionary) from the training set and display the dimensions of all contained features by iterating over the keys."
   ]
  },
  {
   "cell_type": "code",
   "execution_count": 3,
   "metadata": {},
   "outputs": [
    {
     "name": "stdout",
     "output_type": "stream",
     "text": [
      "dict_keys(['log_mel', 'mfcc'])\n",
      "(128, 6)\n",
      "(30, 6)\n"
     ]
    }
   ],
   "source": [
    "data = x_train[0]\n",
    "print(data.keys())\n",
    "for key in x_train[0].keys():\n",
    "    print(data[key].shape)"
   ]
  },
  {
   "cell_type": "markdown",
   "metadata": {},
   "source": [
    "* Create a FeatureSelector object and use it to generate a matrix mel_train where one row corresponds to the flattened log mel spectrum of one training instance."
   ]
  },
  {
   "cell_type": "code",
   "execution_count": 4,
   "metadata": {},
   "outputs": [
    {
     "name": "stdout",
     "output_type": "stream",
     "text": [
      "(5130, 768)\n"
     ]
    }
   ],
   "source": [
    "fSelector = lib.FeatureSelector(0, 'all')\n",
    "mel_train = fSelector.transform(x_train)\n",
    "print(mel_train.shape)"
   ]
  },
  {
   "cell_type": "markdown",
   "metadata": {},
   "source": [
    "* How many features does one instance have?"
   ]
  },
  {
   "cell_type": "code",
   "execution_count": 5,
   "metadata": {},
   "outputs": [
    {
     "data": {
      "text/plain": [
       "768"
      ]
     },
     "execution_count": 5,
     "metadata": {},
     "output_type": "execute_result"
    }
   ],
   "source": [
    "mel_train.shape[1]"
   ]
  },
  {
   "cell_type": "markdown",
   "metadata": {},
   "source": [
    "* Use the same object to generate a matrix mel_test containing the test data."
   ]
  },
  {
   "cell_type": "code",
   "execution_count": 6,
   "metadata": {},
   "outputs": [],
   "source": [
    "mel_test = fSelector.transform(x_test)"
   ]
  },
  {
   "cell_type": "markdown",
   "metadata": {},
   "source": [
    "### Exercise 2 Logistic Regression \n",
    "* Create a logistic regression object with C=1000 and max_iter=1000.\n",
    "* Train the model with the extracted training data (mel spectra). Probably you will receive a warning that the training did not converge."
   ]
  },
  {
   "cell_type": "code",
   "execution_count": 7,
   "metadata": {},
   "outputs": [
    {
     "name": "stderr",
     "output_type": "stream",
     "text": [
      "d:\\programme\\python\\lib\\site-packages\\sklearn\\linear_model\\_logistic.py:763: ConvergenceWarning: lbfgs failed to converge (status=1):\n",
      "STOP: TOTAL NO. of ITERATIONS REACHED LIMIT.\n",
      "\n",
      "Increase the number of iterations (max_iter) or scale the data as shown in:\n",
      "    https://scikit-learn.org/stable/modules/preprocessing.html\n",
      "Please also refer to the documentation for alternative solver options:\n",
      "    https://scikit-learn.org/stable/modules/linear_model.html#logistic-regression\n",
      "  n_iter_i = _check_optimize_result(\n"
     ]
    },
    {
     "data": {
      "text/plain": [
       "LogisticRegression(C=1000, max_iter=1000)"
      ]
     },
     "execution_count": 7,
     "metadata": {},
     "output_type": "execute_result"
    }
   ],
   "source": [
    "from sklearn.linear_model import LogisticRegression\n",
    "linreg = LogisticRegression(C=1000, max_iter=1000)\n",
    "linreg.fit(mel_train, t_train)"
   ]
  },
  {
   "cell_type": "markdown",
   "metadata": {
    "pycharm": {
     "name": "#%% md\n"
    }
   },
   "source": [
    "### Exercise 3 Model Evaluation\n",
    "* Compute all predicted posterior probabilities on the test set and then plot $p(\\texttt{’four’}|\\mathbf{x})$ for all x in the test set.\n",
    "* In the same diagram add a line with the true posterior probability p(’four’|x).\n",
    "This probability is 1 if it is known that an instance is a 'four' and zero otherwise."
   ]
  },
  {
   "cell_type": "code",
   "execution_count": 8,
   "metadata": {
    "pycharm": {
     "name": "#%%\n"
    }
   },
   "outputs": [
    {
     "data": {
      "image/png": "[encoded data removed]",
      "text/plain": [
       "<Figure size 432x288 with 1 Axes>"
      ]
     },
     "metadata": {
      "needs_background": "light"
     },
     "output_type": "display_data"
    }
   ],
   "source": [
    "post_prob = linreg.predict_proba(mel_test)\n",
    "plt.plot(post_prob[:, 0])\n",
    "true_post_prob = [1 if elem == 4 else 0 for elem in t_test]\n",
    "plt.plot(true_post_prob)\n",
    "plt.show()"
   ]
  },
  {
   "cell_type": "markdown",
   "metadata": {
    "pycharm": {
     "name": "#%% md\n"
    }
   },
   "source": [
    "* In another diagram, generate the same curves for the training set. Is the training data linearly separable?\n"
   ]
  },
  {
   "cell_type": "code",
   "execution_count": 9,
   "metadata": {
    "pycharm": {
     "name": "#%%\n"
    }
   },
   "outputs": [
    {
     "data": {
      "image/png": "[encoded data removed]",
      "text/plain": [
       "<Figure size 432x288 with 1 Axes>"
      ]
     },
     "metadata": {
      "needs_background": "light"
     },
     "output_type": "display_data"
    },
    {
     "name": "stdout",
     "output_type": "stream",
     "text": [
      "Yes it is linearly separable\n"
     ]
    }
   ],
   "source": [
    "post_prob = linreg.predict_proba(mel_train)\n",
    "plt.plot(post_prob[:, 0])\n",
    "true_post_prob = [1 if elem == 4 else 0 for elem in t_train]\n",
    "plt.plot(true_post_prob)\n",
    "plt.show()\n",
    "\n",
    "print('Yes it is linearly separable')"
   ]
  },
  {
   "cell_type": "markdown",
   "metadata": {},
   "source": [
    "* Visualize the normalized confusion matrix for the test set. Which false classification happens most often?"
   ]
  },
  {
   "cell_type": "code",
   "execution_count": 10,
   "metadata": {
    "pycharm": {
     "name": "#%%\n"
    }
   },
   "outputs": [
    {
     "name": "stdout",
     "output_type": "stream",
     "text": [
      "the 5 gets most often wrongly classified as 7\n"
     ]
    },
    {
     "data": {
      "image/png": "[encoded data removed]",
      "text/plain": [
       "<Figure size 432x288 with 2 Axes>"
      ]
     },
     "metadata": {
      "needs_background": "light"
     },
     "output_type": "display_data"
    }
   ],
   "source": [
    "from sklearn.metrics import plot_confusion_matrix\n",
    "plot_confusion_matrix(linreg, mel_test, t_test)\n",
    "print('the 5 gets most often wrongly classified as 7')"
   ]
  },
  {
   "cell_type": "markdown",
   "metadata": {
    "pycharm": {
     "name": "#%% md\n"
    }
   },
   "source": [
    "* Create a Pipeline with a `FeatureSelector` and a `LogisticRegression` object. Let\n",
    "the `FeatureSelector` select only the log-mel-spectra and allow 1000 iterations\n",
    "for the `LogisticRegression` object. Set the `Pipeline`’s `verbose` attribute to `True`\n",
    "in order to see the fitting time.\n",
    "* Fit the `Pipeline` with the training data and compute the accuracy score on the test set."
   ]
  },
  {
   "cell_type": "code",
   "execution_count": 11,
   "metadata": {
    "pycharm": {
     "name": "#%%\n"
    }
   },
   "outputs": [
    {
     "name": "stdout",
     "output_type": "stream",
     "text": [
      "[Pipeline] .......... (step 1 of 2) Processing selector, total=   0.5s\n",
      "[Pipeline] ............. (step 2 of 2) Processing model, total=  32.3s\n"
     ]
    },
    {
     "name": "stderr",
     "output_type": "stream",
     "text": [
      "d:\\programme\\python\\lib\\site-packages\\sklearn\\linear_model\\_logistic.py:763: ConvergenceWarning: lbfgs failed to converge (status=1):\n",
      "STOP: TOTAL NO. of ITERATIONS REACHED LIMIT.\n",
      "\n",
      "Increase the number of iterations (max_iter) or scale the data as shown in:\n",
      "    https://scikit-learn.org/stable/modules/preprocessing.html\n",
      "Please also refer to the documentation for alternative solver options:\n",
      "    https://scikit-learn.org/stable/modules/linear_model.html#logistic-regression\n",
      "  n_iter_i = _check_optimize_result(\n"
     ]
    },
    {
     "data": {
      "text/plain": [
       "0.901840490797546"
      ]
     },
     "execution_count": 11,
     "metadata": {},
     "output_type": "execute_result"
    }
   ],
   "source": [
    "from sklearn.pipeline import Pipeline\n",
    "from sklearn.metrics import accuracy_score\n",
    "pipe = Pipeline([('selector', lib.FeatureSelector(0, 'all')),\n",
    "                 ('model', LogisticRegression(max_iter=1000))])\n",
    "pipe.verbose = True\n",
    "pipe.fit(x_train, t_train)\n",
    "pipe.score(x_test, t_test)"
   ]
  },
  {
   "cell_type": "markdown",
   "metadata": {
    "pycharm": {
     "name": "#%% md\n"
    }
   },
   "source": [
    "* Then add a `StandardScaler` to the `Pipeline` and compare accuracy and fitting time."
   ]
  },
  {
   "cell_type": "code",
   "execution_count": 12,
   "metadata": {
    "pycharm": {
     "name": "#%%\n"
    }
   },
   "outputs": [
    {
     "name": "stdout",
     "output_type": "stream",
     "text": [
      "[Pipeline] .......... (step 1 of 3) Processing selector, total=   0.6s\n",
      "[Pipeline] ............ (step 2 of 3) Processing scaler, total=   0.1s\n",
      "[Pipeline] ............. (step 3 of 3) Processing model, total=  17.5s\n"
     ]
    },
    {
     "data": {
      "text/plain": [
       "0.906441717791411"
      ]
     },
     "execution_count": 12,
     "metadata": {},
     "output_type": "execute_result"
    }
   ],
   "source": [
    "from sklearn.preprocessing import StandardScaler\n",
    "from sklearn.metrics import accuracy_score\n",
    "pipe = Pipeline([('selector', lib.FeatureSelector(0, 'all')), ('scaler', StandardScaler()),\n",
    "                 ('model', LogisticRegression(max_iter=1000))])\n",
    "pipe.verbose = True\n",
    "pipe.fit(x_train, t_train)\n",
    "pipe.score(x_test, t_test)"
   ]
  },
  {
   "cell_type": "markdown",
   "metadata": {
    "pycharm": {
     "name": "#%% md\n"
    }
   },
   "source": [
    "* Repeat these steps but let the FeatureSelector select all cepstral coefficients."
   ]
  },
  {
   "cell_type": "code",
   "execution_count": 13,
   "metadata": {
    "pycharm": {
     "name": "#%%\n"
    }
   },
   "outputs": [
    {
     "name": "stdout",
     "output_type": "stream",
     "text": [
      "[Pipeline] .......... (step 1 of 2) Processing selector, total=   0.3s\n",
      "[Pipeline] ............. (step 2 of 2) Processing model, total=   9.9s\n"
     ]
    },
    {
     "name": "stderr",
     "output_type": "stream",
     "text": [
      "d:\\programme\\python\\lib\\site-packages\\sklearn\\linear_model\\_logistic.py:763: ConvergenceWarning: lbfgs failed to converge (status=1):\n",
      "STOP: TOTAL NO. of ITERATIONS REACHED LIMIT.\n",
      "\n",
      "Increase the number of iterations (max_iter) or scale the data as shown in:\n",
      "    https://scikit-learn.org/stable/modules/preprocessing.html\n",
      "Please also refer to the documentation for alternative solver options:\n",
      "    https://scikit-learn.org/stable/modules/linear_model.html#logistic-regression\n",
      "  n_iter_i = _check_optimize_result(\n"
     ]
    },
    {
     "data": {
      "text/plain": [
       "0.9003067484662577"
      ]
     },
     "execution_count": 13,
     "metadata": {},
     "output_type": "execute_result"
    }
   ],
   "source": [
    "pipe = Pipeline([('selector', lib.FeatureSelector('all', 0)),\n",
    "                 ('model', LogisticRegression(max_iter=1000))])\n",
    "pipe.verbose = True\n",
    "pipe.fit(x_train, t_train)\n",
    "pipe.score(x_test, t_test)"
   ]
  },
  {
   "cell_type": "code",
   "execution_count": 14,
   "metadata": {
    "pycharm": {
     "name": "#%%\n"
    }
   },
   "outputs": [
    {
     "name": "stdout",
     "output_type": "stream",
     "text": [
      "[Pipeline] .......... (step 1 of 3) Processing selector, total=   0.3s\n",
      "[Pipeline] ............ (step 2 of 3) Processing scaler, total=   0.0s\n",
      "[Pipeline] ............. (step 3 of 3) Processing model, total=   1.0s\n"
     ]
    },
    {
     "data": {
      "text/plain": [
       "0.9079754601226994"
      ]
     },
     "execution_count": 14,
     "metadata": {},
     "output_type": "execute_result"
    }
   ],
   "source": [
    "pipe = Pipeline([('selector', lib.FeatureSelector('all', 0)), ('scaler', StandardScaler()),\n",
    "                 ('model', LogisticRegression(max_iter=1000))])\n",
    "pipe.verbose = True\n",
    "pipe.fit(x_train, t_train)\n",
    "pipe.score(x_test, t_test)\n"
   ]
  },
  {
   "cell_type": "markdown",
   "metadata": {
    "pycharm": {
     "name": "#%% md\n"
    }
   },
   "source": [
    "* Denote accuracy and fitting times in the following table. How do scaler and the reduced number of features impact the pipeline?\n",
    "\n",
    "| Feature \t| With Scaler \t| Fitting Time [s]\t| Accuracy [%]\t|\n",
    "|---------\t|-------------\t|----------------\t|-----------\t|\n",
    "| log_mel \t| no          \t| 22.9          \t| 89.88      \t|\n",
    "| log_mel \t| yes         \t| 29.4              | 90.34      \t|\n",
    "| mfcc    \t| no          \t| 11.7              | 89.72      \t|\n",
    "| mfcc    \t| yes         \t| 0.9               | 90.49      \t|\n"
   ]
  },
  {
   "cell_type": "markdown",
   "metadata": {
    "pycharm": {
     "name": "#%% md\n"
    }
   },
   "source": [
    "### Exercise 5: Grid Search\n",
    "\n",
    "* Create a Pipeline with cepstral coefficiens as input features, standard scaling\n",
    "and logistic regression with a maximum of 1000 iterations.\n",
    "\n",
    "* Define a parameter grid where you vary the regularization parameter `C` of the\n",
    "estimator in an exponential range from $10^{−5}$ to $10^5$ and the number of selected\n",
    "cepstral coefficients between 2 and 30 in steps in 4."
   ]
  },
  {
   "cell_type": "code",
   "execution_count": 15,
   "metadata": {
    "pycharm": {
     "name": "#%%\n"
    }
   },
   "outputs": [
    {
     "name": "stdout",
     "output_type": "stream",
     "text": [
      "Fitting 1 folds for each of 28 candidates, totalling 28 fits\n"
     ]
    },
    {
     "data": {
      "image/png": "[encoded data removed]",
      "text/plain": [
       "<Figure size 288x288 with 1 Axes>"
      ]
     },
     "metadata": {
      "needs_background": "light"
     },
     "output_type": "display_data"
    },
    {
     "data": {
      "image/png": "[encoded data removed]",
      "text/plain": [
       "<Figure size 504x288 with 1 Axes>"
      ]
     },
     "metadata": {
      "needs_background": "light"
     },
     "output_type": "display_data"
    }
   ],
   "source": [
    "from sklearn.model_selection import GridSearchCV\n",
    "pipe = Pipeline(steps=[('selector', lib.FeatureSelector(mfcc='all', log_mel = 0)), ('scaler', StandardScaler()),\n",
    "                 ('model', LogisticRegression(max_iter=1000))])\n",
    "pipe.verbose = False\n",
    "parameters = {'model__C': np.logspace(-5, 5, 4),\n",
    "              'selector__mfcc': np.arange(2, 30, 4)}\n",
    "clf = GridSearchCV(estimator=pipe, param_grid=parameters, cv=val_split, verbose=True)\n",
    "clf.fit(x_train, t_train)\n",
    "lib.analyze_grid_search(clf)"
   ]
  },
  {
   "cell_type": "markdown",
   "metadata": {
    "pycharm": {
     "name": "#%% md\n"
    }
   },
   "source": [
    "### Exercise 6: Dimensionality Reduction\n",
    "* Create a `Pipeline` with a `FeatureSelector` and a `KNeighborsClassifier`. The\n",
    "`FeatureSelector` should select the mel-frequency spectrum. Fit the `Pipeline`\n",
    "and display the accuracy on the test set."
   ]
  },
  {
   "cell_type": "code",
   "execution_count": 16,
   "metadata": {
    "pycharm": {
     "name": "#%%\n"
    }
   },
   "outputs": [
    {
     "name": "stdout",
     "output_type": "stream",
     "text": [
      "0.9079754601226994\n"
     ]
    }
   ],
   "source": [
    "from sklearn.neighbors import  KNeighborsClassifier\n",
    "pipe = Pipeline(steps=[('selector', lib.FeatureSelector(mfcc=0, log_mel = 'all')),\n",
    "                       ('model', KNeighborsClassifier())])\n",
    "pipe.fit(x_train, t_train)\n",
    "score = pipe.score(x_test, t_test)\n",
    "print(score)"
   ]
  },
  {
   "cell_type": "markdown",
   "metadata": {
    "pycharm": {
     "name": "#%% md\n"
    }
   },
   "source": [
    "* Now create a second `Pipeline`, where a `NeighborhoodComponentAnalysis` is added\n",
    "before the classifier, and provide a memory argument, so that the `Pipeline` is able to cache fitted estimators.\n",
    "* Create a parameter grid where you vary `nca__n_components` (4-5 values) and\n",
    "`knn__n_neighbors` (5-8 values).\n",
    "* Create a `GridSearchCV` with the Pipeline, the parameter grid and the argument\n",
    "`verbose=3.`\n",
    "* Fit the grid search and investigate the fitting time for the parameter configurations.\n",
    "How can you observe the effect of caching?"
   ]
  },
  {
   "cell_type": "code",
   "execution_count": null,
   "metadata": {
    "pycharm": {
     "name": "#%%\n"
    }
   },
   "outputs": [
    {
     "name": "stdout",
     "output_type": "stream",
     "text": [
      "Fitting 1 folds for each of 6 candidates, totalling 6 fits\n"
     ]
    }
   ],
   "source": [
    "from sklearn.neighbors import NeighborhoodComponentsAnalysis\n",
    "pipe2 = Pipeline(steps=[('selector', lib.FeatureSelector(mfcc=0, log_mel = 'all')),\n",
    "                        ('nca', NeighborhoodComponentsAnalysis(verbose=0)),\n",
    "                        ('knn', KNeighborsClassifier())], memory='steps')\n",
    "parameters = {'nca__n_components': [2, 5],\n",
    "              'knn__n_neighbors': [1, 2, 5]}\n",
    "clf = GridSearchCV(estimator=pipe2, param_grid=parameters, cv=val_split, verbose=3, n_jobs=-1)\n",
    "clf.fit(x_train, t_train)"
   ]
  },
  {
   "cell_type": "markdown",
   "metadata": {
    "pycharm": {
     "name": "#%% md\n"
    }
   },
   "source": [
    "### Exercise 7"
   ]
  },
  {
   "cell_type": "code",
   "execution_count": null,
   "metadata": {
    "pycharm": {
     "name": "#%%\n"
    }
   },
   "outputs": [],
   "source": []
  },
  {
   "cell_type": "code",
   "execution_count": null,
   "metadata": {
    "pycharm": {
     "name": "#%%\n"
    }
   },
   "outputs": [],
   "source": []
  },
  {
   "cell_type": "markdown",
   "metadata": {
    "pycharm": {
     "name": "#%% md\n"
    }
   },
   "source": [
    "### Exercise 8\n",
    "* Your turn!"
   ]
  },
  {
   "cell_type": "code",
   "execution_count": null,
   "metadata": {},
   "outputs": [],
   "source": []
  }
 ],
 "metadata": {
  "kernelspec": {
   "display_name": "Python 3",
   "language": "python",
   "name": "python3"
  },
  "language_info": {
   "codemirror_mode": {
    "name": "ipython",
    "version": 3
   },
   "file_extension": ".py",
   "mimetype": "text/x-python",
   "name": "python",
   "nbconvert_exporter": "python",
   "pygments_lexer": "ipython3",
   "version": "3.8.2"
  }
 },
 "nbformat": 4,
 "nbformat_minor": 1
}
