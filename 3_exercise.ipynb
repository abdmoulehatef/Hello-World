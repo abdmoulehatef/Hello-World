{
 "cells": [
  {
   "cell_type": "markdown",
   "metadata": {},
   "source": []
  },
  {
   "cell_type": "markdown",
   "metadata": {},
   "source": [
    "# Session 3: Signal analysis"
   ]
  },
  {
   "cell_type": "code",
   "execution_count": 193,
   "metadata": {
    "pycharm": {
     "name": "#%%\n"
    }
   },
   "outputs": [],
   "source": [
    "import numpy as np\n",
    "from numpy import histogram\n",
    "import soundfile as sf\n",
    "import sounddevice as sd\n",
    "from scipy.signal import correlate, correlation_lags\n",
    "import matplotlib.pyplot as plt\n",
    "import numpy.fft as npf\n",
    "import PyQt5\n",
    "%matplotlib qt\n"
   ]
  },
  {
   "cell_type": "markdown",
   "metadata": {},
   "source": [
    "## Exercise 3.1"
   ]
  },
  {
   "cell_type": "code",
   "execution_count": 194,
   "metadata": {
    "pycharm": {
     "name": "#%%\n"
    }
   },
   "outputs": [
    {
     "name": "stdout",
     "output_type": "stream",
     "text": [
      "x1 mean 2.00151554028431 and var 1.33196320809315\n",
      "x2 mean 1.999651710065917 and var 0.5041343541932136\n",
      "x3 mean 2.000434042722431 and var 1.5148468444173324\n"
     ]
    }
   ],
   "source": [
    "noise_length = 1000000\n",
    "x1 = np.random.rand(noise_length)*4\n",
    "x2 = np.random.randn(noise_length)*0.71+2\n",
    "x3 = np.random.randn(noise_length)*1.23+2\n",
    "print('x1 mean '+str(np.mean(x1))+' and var '+str(np.var(x1)))\n",
    "print('x2 mean '+str(np.mean(x2))+' and var '+str(np.var(x2)))\n",
    "print('x3 mean '+str(np.mean(x3))+' and var '+str(np.var(x3)))"
   ]
  },
  {
   "cell_type": "code",
   "execution_count": 195,
   "metadata": {},
   "outputs": [
    {
     "data": {
      "text/plain": [
       "Text(0, 0.5, 'density')"
      ]
     },
     "execution_count": 195,
     "metadata": {},
     "output_type": "execute_result"
    }
   ],
   "source": [
    "edges = np.arange(min(np.min(x3), np.min(x2), np.min(x1)), max(np.max(x1), np.max(x2), np.max(x3)), 0.1)\n",
    "hx1, _ = np.histogram(x1, edges, density=True)\n",
    "hx2, _ = np.histogram(x2, edges, density=True)\n",
    "hx3, _ = np.histogram(x3, edges, density=True)\n",
    "centers = 0.5*(edges[1:] + edges[:-1])\n",
    "plt.plot(centers, hx1, label='x1')\n",
    "plt.plot(centers, hx2, label='x2')\n",
    "plt.plot(centers, hx3, label='x3')\n",
    "plt.legend()\n",
    "plt.xlabel('value')\n",
    "plt.ylabel('density')"
   ]
  },
  {
   "cell_type": "code",
   "execution_count": 209,
   "metadata": {},
   "outputs": [
    {
     "name": "stdout",
     "output_type": "stream",
     "text": [
      "[0.727841]\n",
      "[0.899389]\n",
      "[0.76968577]\n"
     ]
    }
   ],
   "source": [
    "c1 = np.cumsum(hx1)/sum(hx1)\n",
    "c2 = np.cumsum(hx2)/sum(hx2)\n",
    "c3 = np.cumsum(hx3)/sum(hx3)\n",
    "plt.plot(centers, c1, label='c1')\n",
    "plt.plot(centers, c2, label='c2')\n",
    "plt.plot(centers, c3, label='c3')\n",
    "plt.legend()\n",
    "plt.xlabel('value')\n",
    "plt.ylabel('cumulated density')\n",
    "print(1-c1[abs(centers-1)<0.05])\n",
    "print(1-c2[abs(centers-1)<0.05])\n",
    "print(1-c3[abs(centers-1)<0.05])"
   ]
  },
  {
   "cell_type": "markdown",
   "metadata": {
    "pycharm": {
     "name": "#%% md\n"
    }
   },
   "source": [
    "## Exercise 3.2"
   ]
  },
  {
   "cell_type": "code",
   "execution_count": 173,
   "metadata": {
    "pycharm": {
     "name": "#%%\n"
    }
   },
   "outputs": [
    {
     "name": "stdout",
     "output_type": "stream",
     "text": [
      "the file has a length of 10.00 ms with a sr of 8000\n",
      "f is 160.00\n"
     ]
    }
   ],
   "source": [
    "data, sr = sf.read('voice1.wav')\n",
    "data_length = len(data)\n",
    "length_ms = data_length/sr*100\n",
    "print('the file has a length of %3.2f ms with a sr of %i' % (length_ms, sr))\n",
    "# sd.play(data, sr)\n",
    "# status = sd.wait()\n",
    "phi_xx = correlate(data, data)\n",
    "lags = correlation_lags(data_length, data_length)\n",
    "plt.plot(lags, phi_xx)\n",
    "print('f is %4.2f'%(sr/50))"
   ]
  },
  {
   "cell_type": "code",
   "execution_count": 174,
   "metadata": {
    "pycharm": {
     "name": "#%%\n"
    }
   },
   "outputs": [
    {
     "name": "stdout",
     "output_type": "stream",
     "text": [
      "the scaling factor of y2 is 1.00\n",
      "the scaling factor of y3 is 2.00\n",
      "y2 lags shift 14  y3 lags shift 0\n"
     ]
    }
   ],
   "source": [
    "f = np.load('sequences.npz')\n",
    "x = f['x']\n",
    "y1 = f['y1']\n",
    "y2 = f['y2']\n",
    "y3 = f['y3']\n",
    "phi_xy1 = correlate(x, y1)\n",
    "phi_xy2 = correlate(x, y2)\n",
    "phi_xy3 = correlate(x, y3)\n",
    "lags1 = correlation_lags(len(x), len(y1))\n",
    "plt.plot(phi_xy1)\n",
    "plt.show()\n",
    "lags2 = correlation_lags(len(x), len(y2))\n",
    "plt.plot(lags2, phi_xy2)\n",
    "plt.show()\n",
    "lags3 = correlation_lags(len(x), len(y3))\n",
    "plt.plot(lags3, phi_xy3)\n",
    "plt.show()\n",
    "print('the scaling factor of y2 is %3.2f'%(max(y2)/max(x)))\n",
    "print('the scaling factor of y3 is %3.2f'%(max(y3)/max(x)))\n",
    "\n",
    "indice_maximum2=np.argmax(phi_xy2)\n",
    "indice_maximum3=np.argmax(phi_xy3)\n",
    "\n",
    "lags_shift_2=lags2[indice_maximum2]\n",
    "lags_shift_3=lags3[indice_maximum3]\n",
    "print(\"y2 lags shift\",lags_shift_2,\" y3 lags shift\",lags_shift_3)"
   ]
  },
  {
   "cell_type": "code",
   "execution_count": null,
   "metadata": {},
   "outputs": [],
   "source": []
  },
  {
   "cell_type": "markdown",
   "metadata": {},
   "source": [
    "## Exercise 3.3"
   ]
  },
  {
   "cell_type": "code",
   "execution_count": null,
   "metadata": {
    "pycharm": {
     "name": "#%% verschobene Einheitsimpulsfolgen erzeugen\n"
    }
   },
   "outputs": [],
   "source": []
  },
  {
   "cell_type": "code",
   "execution_count": 177,
   "metadata": {
    "pycharm": {
     "name": "#%%\n"
    }
   },
   "outputs": [],
   "source": [
    "N = 64\n",
    "\n",
    "x0 = np.zeros((N))\n",
    "x0[0] = 1\n",
    "x1 = np.zeros((N))\n",
    "x1[1] = 1\n",
    "x2 = np.zeros((N))\n",
    "x2[2] = 1\n",
    "\n",
    "# freq=np.fft.fftfreq(N)\n",
    "\n",
    "def show_fft(signal):\n",
    "\n",
    "\n",
    "    fft_signal = np.fft.fft(signal)\n",
    "\n",
    "    fft_real = fft_signal.real\n",
    "    fft_imag = fft_signal.imag\n",
    "    indice_maximum = np.argmax(fft_signal)\n",
    "    magnitude = np.abs(fft_signal)\n",
    "    phase = np.angle(fft_signal)\n",
    "    \n",
    "    fig, ((ax1, ax2), (ax3, ax4)) = plt.subplots(2, 2)\n",
    "    ax1.plot(fft_imag,label=\"Imaginary part \")\n",
    "    ax2.plot(fft_real,label=\"Real part\")\n",
    "    ax3.plot(magnitude, label=\"magnitude \")\n",
    "    ax4.plot(phase, label=\"phase\")\n",
    "    ax1.set_title(\"Imaginary part\")\n",
    "    ax2.set_title(\"Real part\")\n",
    "    ax3.set_title(\"magnitude\")\n",
    "    ax4.set_title(\"phase\")\n",
    "    plt.show()\n",
    "\n",
    "\n",
    "show_fft(x0)\n",
    "# print(\"magnitude1 is:\", magnitude1,\" phase1 is:\", phase1)\n",
    "\n",
    "show_fft(x1)\n",
    "# print(\"magnitude2 is:\", magnitude2,\" phase2 is:\", phase2)\n",
    "\n",
    "show_fft(x2)\n",
    "# print(\"magnitude3 is:\", magnitude3,\" phase3 is:\", phase3)"
   ]
  },
  {
   "cell_type": "code",
   "execution_count": 178,
   "metadata": {},
   "outputs": [
    {
     "data": {
      "text/plain": [
       "array([ 0,  1,  2,  3,  4,  5,  6,  7,  8,  9, 10, 11, 12, 13, 14, 15, 16,\n",
       "       17, 18, 19, 20, 21, 22, 23, 24, 25, 26, 27, 28, 29, 30, 31, 32, 33,\n",
       "       34, 35, 36, 37, 38, 39, 40, 41])"
      ]
     },
     "execution_count": 178,
     "metadata": {},
     "output_type": "execute_result"
    }
   ],
   "source": [
    "N = 42\n",
    "n = 3\n",
    "k = np.arange(0, N)\n",
    "x_even = np.cos(k*2*np.pi*n/N)\n",
    "show_fft(x_even)\n",
    "n = 10.33\n",
    "x_odd = np.cos(k*2*np.pi*n/N)\n",
    "show_fft(x_odd)\n",
    "k"
   ]
  },
  {
   "cell_type": "markdown",
   "metadata": {},
   "source": [
    "## Exercise 3.4"
   ]
  },
  {
   "cell_type": "code",
   "execution_count": 182,
   "metadata": {
    "pycharm": {
     "name": "#%%\n"
    }
   },
   "outputs": [
    {
     "name": "stderr",
     "output_type": "stream",
     "text": [
      "d:\\programme\\python\\lib\\site-packages\\numpy\\core\\_asarray.py:102: ComplexWarning: Casting complex values to real discards the imaginary part\n",
      "  return array(a, dtype, copy=False, order=order)\n",
      "No handles with labels found to put in legend.\n"
     ]
    }
   ],
   "source": [
    "data, sr = sf.read('distorted.wav')\n",
    "fft_of_data = npf.rfft(data)\n",
    "n = data.size\n",
    "freq = npf.rfftfreq(n)*sr\n",
    "plt.plot(freq, fft_of_data)\n",
    "plt.legend()\n",
    "plt.xlabel('frequency')\n",
    "plt.ylabel('rfft')\n",
    "plt.show()"
   ]
  },
  {
   "cell_type": "markdown",
   "metadata": {},
   "source": [
    "## Exercise 3.5"
   ]
  },
  {
   "cell_type": "code",
   "execution_count": 184,
   "metadata": {
    "pycharm": {
     "name": "#%%\n"
    }
   },
   "outputs": [
    {
     "name": "stdout",
     "output_type": "stream",
     "text": [
      "the file has a length of 1080.00 ms with a sr of 16000\n"
     ]
    }
   ],
   "source": [
    "from scipy.signal import spectrogram\n",
    "\n",
    "data, sr = sf.read('voice2.wav')\n",
    "data_length = len(data)\n",
    "length_ms = data_length/sr*100\n",
    "print('the file has a length of %3.2f ms with a sr of %i' % (length_ms, sr))\n",
    "sd.play(data, sr)\n",
    "status = sd.wait()\n",
    "\n",
    "def compare_specs(x, fs, params_default, **kwargs):\n",
    "    fig, (ax1, ax2) = plt.subplots(2, 1)\n",
    "    fbin, tframe, S = spectrogram(x, fs, **params_default, scaling='spectrum')\n",
    "    ax1.pcolormesh(tframe, fbin, 20*np.log10(S), shading='auto')\n",
    "#     fig.colorbar()\n",
    "    ax1.set_xlabel('t [s]')\n",
    "    ax1.set_ylabel('f [Hz]')\n",
    "    fbin, tframe, S = spectrogram(x, fs, **{**params_default, **kwargs}, scaling='spectrum')\n",
    "    ax2.pcolormesh(tframe, fbin, 20*np.log10(S), shading='auto')\n",
    "    ax2.set_xlabel('t [s]')\n",
    "    ax2.set_ylabel('f [Hz]')"
   ]
  },
  {
   "cell_type": "code",
   "execution_count": 190,
   "metadata": {},
   "outputs": [],
   "source": [
    "params_default=dict(nperseg=512, noverlap=0, nfft=None, window='rect')\n",
    "new_params=dict(nperseg=2000, noverlap=0, nfft=None, window='blackman')"
   ]
  },
  {
   "cell_type": "code",
   "execution_count": 191,
   "metadata": {},
   "outputs": [
    {
     "name": "stderr",
     "output_type": "stream",
     "text": [
      "<ipython-input-184-98cff355ec8c>:13: RuntimeWarning: divide by zero encountered in log10\n",
      "  ax1.pcolormesh(tframe, fbin, 20*np.log10(S), shading='auto')\n"
     ]
    }
   ],
   "source": [
    "compare_specs(data, sr, params_default, **new_params)"
   ]
  },
  {
   "cell_type": "code",
   "execution_count": null,
   "metadata": {},
   "outputs": [],
   "source": []
  }
 ],
 "metadata": {
  "kernelspec": {
   "display_name": "Python 3",
   "language": "python",
   "name": "python3"
  },
  "language_info": {
   "codemirror_mode": {
    "name": "ipython",
    "version": 3
   },
   "file_extension": ".py",
   "mimetype": "text/x-python",
   "name": "python",
   "nbconvert_exporter": "python",
   "pygments_lexer": "ipython3",
   "version": "3.8.2"
  }
 },
 "nbformat": 4,
 "nbformat_minor": 1
}
